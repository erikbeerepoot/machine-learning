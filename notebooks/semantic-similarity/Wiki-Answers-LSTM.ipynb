{
 "cells": [
  {
   "cell_type": "code",
   "execution_count": 2,
   "metadata": {
    "ExecuteTime": {
     "end_time": "2018-11-25T00:54:23.687650Z",
     "start_time": "2018-11-25T00:54:21.241577Z"
    }
   },
   "outputs": [],
   "source": [
    "import pandas as pd\n",
    "import os\n",
    "# Read in data from dataset\n",
    "dataset = os.path.expanduser('~/data/question_pair_dataframe.csv')\n",
    "data = pd.read_csv(dataset,sep=',')"
   ]
  },
  {
   "cell_type": "code",
   "execution_count": 3,
   "metadata": {
    "ExecuteTime": {
     "end_time": "2018-11-25T00:54:25.938994Z",
     "start_time": "2018-11-25T00:54:25.922247Z"
    }
   },
   "outputs": [
    {
     "data": {
      "text/html": [
       "<div>\n",
       "<style scoped>\n",
       "    .dataframe tbody tr th:only-of-type {\n",
       "        vertical-align: middle;\n",
       "    }\n",
       "\n",
       "    .dataframe tbody tr th {\n",
       "        vertical-align: top;\n",
       "    }\n",
       "\n",
       "    .dataframe thead th {\n",
       "        text-align: right;\n",
       "    }\n",
       "</style>\n",
       "<table border=\"1\" class=\"dataframe\">\n",
       "  <thead>\n",
       "    <tr style=\"text-align: right;\">\n",
       "      <th></th>\n",
       "      <th>question1</th>\n",
       "      <th>question2</th>\n",
       "      <th>labels</th>\n",
       "    </tr>\n",
       "  </thead>\n",
       "  <tbody>\n",
       "    <tr>\n",
       "      <th>0</th>\n",
       "      <td>Why did your brown dogs have black puppies?</td>\n",
       "      <td>Who contributed to non-euclidean?</td>\n",
       "      <td>0</td>\n",
       "    </tr>\n",
       "    <tr>\n",
       "      <th>1</th>\n",
       "      <td>What age boy dogs able to create puppies?</td>\n",
       "      <td>What is the most recent processor for the desk...</td>\n",
       "      <td>0</td>\n",
       "    </tr>\n",
       "    <tr>\n",
       "      <th>2</th>\n",
       "      <td>How do earth formed according to science?</td>\n",
       "      <td>The science concered with earth and its place ...</td>\n",
       "      <td>1</td>\n",
       "    </tr>\n",
       "    <tr>\n",
       "      <th>3</th>\n",
       "      <td>How long is opened corked wine good for?</td>\n",
       "      <td>How long is wine good after it is opened?</td>\n",
       "      <td>1</td>\n",
       "    </tr>\n",
       "    <tr>\n",
       "      <th>4</th>\n",
       "      <td>People contribute in the development of computer?</td>\n",
       "      <td>Who are the key people in computer development?</td>\n",
       "      <td>1</td>\n",
       "    </tr>\n",
       "    <tr>\n",
       "      <th>5</th>\n",
       "      <td>What is the most recent desktop processor by amd?</td>\n",
       "      <td>Exclamation point horseshoe?</td>\n",
       "      <td>0</td>\n",
       "    </tr>\n",
       "    <tr>\n",
       "      <th>6</th>\n",
       "      <td>What does key result areas?</td>\n",
       "      <td>How many calories is Coconut rum with Pineapple?</td>\n",
       "      <td>0</td>\n",
       "    </tr>\n",
       "    <tr>\n",
       "      <th>7</th>\n",
       "      <td>What is the function os vesicles?</td>\n",
       "      <td>What do vesicles function?</td>\n",
       "      <td>1</td>\n",
       "    </tr>\n",
       "    <tr>\n",
       "      <th>8</th>\n",
       "      <td>How is aerobic capacity expressed?</td>\n",
       "      <td>Average number of completed laps of aerobic ca...</td>\n",
       "      <td>1</td>\n",
       "    </tr>\n",
       "    <tr>\n",
       "      <th>9</th>\n",
       "      <td>What does the yellow light mean when it turns ...</td>\n",
       "      <td>When did the new jersey devils win the stanley...</td>\n",
       "      <td>0</td>\n",
       "    </tr>\n",
       "  </tbody>\n",
       "</table>\n",
       "</div>"
      ],
      "text/plain": [
       "                                           question1  \\\n",
       "0        Why did your brown dogs have black puppies?   \n",
       "1          What age boy dogs able to create puppies?   \n",
       "2          How do earth formed according to science?   \n",
       "3           How long is opened corked wine good for?   \n",
       "4  People contribute in the development of computer?   \n",
       "5  What is the most recent desktop processor by amd?   \n",
       "6                        What does key result areas?   \n",
       "7                  What is the function os vesicles?   \n",
       "8                 How is aerobic capacity expressed?   \n",
       "9  What does the yellow light mean when it turns ...   \n",
       "\n",
       "                                           question2  labels  \n",
       "0                  Who contributed to non-euclidean?       0  \n",
       "1  What is the most recent processor for the desk...       0  \n",
       "2  The science concered with earth and its place ...       1  \n",
       "3          How long is wine good after it is opened?       1  \n",
       "4    Who are the key people in computer development?       1  \n",
       "5                       Exclamation point horseshoe?       0  \n",
       "6   How many calories is Coconut rum with Pineapple?       0  \n",
       "7                         What do vesicles function?       1  \n",
       "8  Average number of completed laps of aerobic ca...       1  \n",
       "9  When did the new jersey devils win the stanley...       0  "
      ]
     },
     "execution_count": 3,
     "metadata": {},
     "output_type": "execute_result"
    }
   ],
   "source": [
    "data[0:10]"
   ]
  },
  {
   "cell_type": "code",
   "execution_count": 4,
   "metadata": {
    "ExecuteTime": {
     "end_time": "2018-11-25T00:55:31.521364Z",
     "start_time": "2018-11-25T00:55:11.075987Z"
    }
   },
   "outputs": [],
   "source": [
    "import csv\n",
    "\n",
    "# Read in GloVe word embeddings\n",
    "embeddings_50d = \"../../word_embeddings/glove.6B/glove.6B.100d.text\"\n",
    "embeddings_100d = \"../../word_embeddings/glove.6B/glove.6B.100d.text\"\n",
    "embeddings_200d = \"../../word_embeddings/glove.6B/glove.6B.200d.text\"\n",
    "embeddings_300d = \"../../word_embeddings/glove.6B/glove.6B.300d.txt\"\n",
    "\n",
    "embeddings = pd.read_table(embeddings_300d, delim_whitespace=True, index_col=0, header=None, quoting=csv.QUOTE_NONE)\n",
    "embedding_dim = 300"
   ]
  },
  {
   "cell_type": "code",
   "execution_count": 7,
   "metadata": {
    "ExecuteTime": {
     "end_time": "2018-11-25T04:49:04.605054Z",
     "start_time": "2018-11-25T00:59:23.213729Z"
    }
   },
   "outputs": [],
   "source": [
    "from keras.preprocessing.sequence import pad_sequences\n",
    "from keras.preprocessing.text import text_to_word_sequence\n",
    "\n",
    "ws = [str(word) for word in embeddings.axes[0]]\n",
    "\n",
    "def process_sentence(sentence):\n",
    "    word_sequence = text_to_word_sequence(str(sentence))\n",
    "    return [ws.index(word) if word in ws else 0 for word in word_sequence]\n",
    "\n",
    "q1s = [process_sentence(sentence) for sentence in data.question1]\n",
    "q2s = [process_sentence(sentence) for sentence in data.question2]\n",
    "\n",
    "df = pd.DataFrame({\n",
    "    \"question1\" : q1s,\n",
    "    \"question2\" : q2s,\n",
    "    \"labels\" : data.labels\n",
    "})"
   ]
  },
  {
   "cell_type": "code",
   "execution_count": 8,
   "metadata": {
    "ExecuteTime": {
     "end_time": "2018-11-25T04:49:10.942408Z",
     "start_time": "2018-11-25T04:49:04.608827Z"
    }
   },
   "outputs": [
    {
     "name": "stdout",
     "output_type": "stream",
     "text": [
      "Max length: 204\n"
     ]
    }
   ],
   "source": [
    "max_question_length = max(max([len(str(question)) for question in df.question1],[len(str(question)) for question in df.question2]))\n",
    "print(f\"Max length: {max_question_length}\")"
   ]
  },
  {
   "cell_type": "code",
   "execution_count": 9,
   "metadata": {
    "ExecuteTime": {
     "end_time": "2018-11-25T04:49:10.957244Z",
     "start_time": "2018-11-25T04:49:10.944029Z"
    }
   },
   "outputs": [
    {
     "ename": "ModuleNotFoundError",
     "evalue": "No module named 'sklearn'",
     "output_type": "error",
     "traceback": [
      "\u001b[0;31m---------------------------------------------------------------------------\u001b[0m",
      "\u001b[0;31mModuleNotFoundError\u001b[0m                       Traceback (most recent call last)",
      "\u001b[0;32m<ipython-input-9-c2c94000e21b>\u001b[0m in \u001b[0;36m<module>\u001b[0;34m\u001b[0m\n\u001b[0;32m----> 1\u001b[0;31m \u001b[0;32mfrom\u001b[0m \u001b[0msklearn\u001b[0m\u001b[0;34m.\u001b[0m\u001b[0mmodel_selection\u001b[0m \u001b[0;32mimport\u001b[0m \u001b[0mtrain_test_split\u001b[0m\u001b[0;34m\u001b[0m\u001b[0m\n\u001b[0m\u001b[1;32m      2\u001b[0m \u001b[0;32mimport\u001b[0m \u001b[0mitertools\u001b[0m\u001b[0;34m\u001b[0m\u001b[0m\n\u001b[1;32m      3\u001b[0m \u001b[0;34m\u001b[0m\u001b[0m\n\u001b[1;32m      4\u001b[0m \u001b[0mvalidation_set_size\u001b[0m \u001b[0;34m=\u001b[0m \u001b[0;36m0.20\u001b[0m\u001b[0;34m*\u001b[0m\u001b[0mlen\u001b[0m\u001b[0;34m(\u001b[0m\u001b[0mdf\u001b[0m\u001b[0;34m)\u001b[0m\u001b[0;34m\u001b[0m\u001b[0m\n\u001b[1;32m      5\u001b[0m \u001b[0mtraining_set_size\u001b[0m \u001b[0;34m=\u001b[0m \u001b[0mlen\u001b[0m\u001b[0;34m(\u001b[0m\u001b[0mdf\u001b[0m\u001b[0;34m)\u001b[0m \u001b[0;34m-\u001b[0m \u001b[0mvalidation_set_size\u001b[0m\u001b[0;34m\u001b[0m\u001b[0m\n",
      "\u001b[0;31mModuleNotFoundError\u001b[0m: No module named 'sklearn'"
     ]
    }
   ],
   "source": [
    "from sklearn.model_selection import train_test_split\n",
    "import itertools\n",
    "\n",
    "validation_set_size = 0.20*len(df)\n",
    "training_set_size = len(df) - validation_set_size\n",
    "\n",
    "X = df[[\"question1\",\"question2\"]]\n",
    "Y = df[\"labels\"]\n",
    "\n",
    "X_train, X_validation, Y_train, Y_validation = train_test_split(X,Y,test_size=validation_set_size)\n",
    "\n",
    "X_train = {\n",
    "    'left': X_train.question1, \n",
    "    'right': X_train.question2\n",
    "}\n",
    "X_validation = {\n",
    "    'left': X_validation.question1, \n",
    "    'right': X_validation.question2\n",
    "}\n",
    "Y_train = Y_train.values\n",
    "Y_validation = Y_validation.values\n",
    "\n",
    "for dataset, side in itertools.product([X_train, X_validation], ['left', 'right']):\n",
    "    dataset[side] = pad_sequences(dataset[side],  maxlen=max_question_length)\n"
   ]
  },
  {
   "cell_type": "code",
   "execution_count": null,
   "metadata": {
    "ExecuteTime": {
     "end_time": "2018-11-25T04:49:10.960276Z",
     "start_time": "2018-11-25T00:59:23.218Z"
    }
   },
   "outputs": [],
   "source": [
    "from keras.layers import Input, Dense, Embedding, LSTM, Lambda\n",
    "from keras.models import Model\n",
    "import keras.backend as K\n",
    "\n",
    "def exponent_neg_manhattan_distance(left, right):\n",
    "    return K.exp(-K.sum(K.abs(left-right), axis=1, keepdims=True))\n",
    "\n",
    "n_hidden_units = 32;\n",
    "\n",
    "left_input = Input(shape=(max_question_length,), dtype='int32')\n",
    "right_input = Input(shape=(max_question_length,), dtype='int32')\n",
    "\n",
    "embedding_layer = Embedding(len(embeddings), embedding_dim, input_length=max_question_length)\n",
    "embedded_left = embedding_layer(left_input)\n",
    "embedded_right = embedding_layer(right_input)\n",
    "\n",
    "lstm = LSTM(n_hidden_units)\n",
    "\n",
    "left_out = lstm(embedded_left)\n",
    "right_out = lstm(embedded_right)\n",
    "\n",
    "malstm_distance = Lambda(function=lambda x: exponent_neg_manhattan_distance(x[0], x[1]),output_shape=lambda x: (x[0][0], 1))([left_out, right_out])\n",
    "\n",
    "model = Model(inputs=[left_input, right_input], outputs=[malstm_distance])"
   ]
  },
  {
   "cell_type": "code",
   "execution_count": null,
   "metadata": {
    "ExecuteTime": {
     "end_time": "2018-11-25T04:49:10.961126Z",
     "start_time": "2018-11-25T00:59:23.220Z"
    }
   },
   "outputs": [],
   "source": [
    "from keras.optimizers import Adadelta\n",
    "from time import time\n",
    "gradient_clipping_norm = 1.25\n",
    "batch_size = 32\n",
    "n_epoch = 10\n",
    "\n",
    "# Adadelta optimizer, with gradient clipping by norm\n",
    "optimizer = Adadelta(clipnorm=gradient_clipping_norm)\n",
    "model.compile(loss='mean_squared_error', optimizer=optimizer, metrics=['accuracy'])\n",
    "\n",
    "start_time = time()\n",
    "trained = model.fit(\n",
    "    [X_train['left'], X_train['right']], \n",
    "    Y_train, \n",
    "    batch_size=batch_size, \n",
    "    epochs=n_epoch,\n",
    "    validation_data=([X_validation['left'], X_validation['right']], Y_validation)\n",
    ")\n",
    "print(\"Training time finished.\\n{} epochs in {}\".format(n_epoch, datetime.timedelta(seconds=time()-start_time)))"
   ]
  }
 ],
 "metadata": {
  "kernelspec": {
   "display_name": "Python 3",
   "language": "python",
   "name": "python3"
  },
  "language_info": {
   "codemirror_mode": {
    "name": "ipython",
    "version": 3
   },
   "file_extension": ".py",
   "mimetype": "text/x-python",
   "name": "python",
   "nbconvert_exporter": "python",
   "pygments_lexer": "ipython3",
   "version": "3.6.5"
  },
  "latex_envs": {
   "LaTeX_envs_menu_present": true,
   "autoclose": false,
   "autocomplete": true,
   "bibliofile": "biblio.bib",
   "cite_by": "apalike",
   "current_citInitial": 1,
   "eqLabelWithNumbers": true,
   "eqNumInitial": 1,
   "hotkeys": {
    "equation": "Ctrl-E",
    "itemize": "Ctrl-I"
   },
   "labels_anchors": false,
   "latex_user_defs": false,
   "report_style_numbering": false,
   "user_envs_cfg": false
  },
  "varInspector": {
   "cols": {
    "lenName": 16,
    "lenType": 16,
    "lenVar": 40
   },
   "kernels_config": {
    "python": {
     "delete_cmd_postfix": "",
     "delete_cmd_prefix": "del ",
     "library": "var_list.py",
     "varRefreshCmd": "print(var_dic_list())"
    },
    "r": {
     "delete_cmd_postfix": ") ",
     "delete_cmd_prefix": "rm(",
     "library": "var_list.r",
     "varRefreshCmd": "cat(var_dic_list()) "
    }
   },
   "types_to_exclude": [
    "module",
    "function",
    "builtin_function_or_method",
    "instance",
    "_Feature"
   ],
   "window_display": false
  }
 },
 "nbformat": 4,
 "nbformat_minor": 2
}
