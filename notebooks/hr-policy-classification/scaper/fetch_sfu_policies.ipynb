{
 "cells": [
  {
   "cell_type": "code",
   "execution_count": 2,
   "metadata": {},
   "outputs": [],
   "source": [
    "import os\n",
    "import sys\n",
    "module_path = os.path.abspath(os.path.join('..'))\n",
    "if module_path not in sys.path:\n",
    "    sys.path.append(module_path)"
   ]
  },
  {
   "cell_type": "code",
   "execution_count": 3,
   "metadata": {},
   "outputs": [],
   "source": [
    "from common.policies.helper import fetch_policy_links\n",
    "from common.url.helper import filter_anchor_links\n",
    "import itertools\n",
    "\n",
    "base_url = \"http://www.sfu.ca/\"\n",
    "policies_url = f\"{base_url}policies/crosswalk_index.html\"\n",
    "policy_content_links = filter_anchor_links(fetch_policy_links(policies_url, \"tbody\"))"
   ]
  },
  {
   "cell_type": "code",
   "execution_count": 4,
   "metadata": {},
   "outputs": [],
   "source": [
    "from common.policies.helper import fetch_policy_document\n",
    "policies = [fetch_policy_document(policy_link,\"h1\",\"div\",\"parsys main_content\") for policy_link in policy_content_links]"
   ]
  },
  {
   "cell_type": "code",
   "execution_count": 5,
   "metadata": {},
   "outputs": [],
   "source": [
    "from common.policies.helper import save_policies\n",
    "save_policies(policies, \"/Users/erikbeerepoot/Documents/policies/sfu\")"
   ]
  }
 ],
 "metadata": {
  "kernelspec": {
   "display_name": "Python 3",
   "language": "python",
   "name": "python3"
  },
  "language_info": {
   "codemirror_mode": {
    "name": "ipython",
    "version": 3
   },
   "file_extension": ".py",
   "mimetype": "text/x-python",
   "name": "python",
   "nbconvert_exporter": "python",
   "pygments_lexer": "ipython3",
   "version": "3.7.0"
  }
 },
 "nbformat": 4,
 "nbformat_minor": 2
}
