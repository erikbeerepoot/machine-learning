{
 "cells": [
  {
   "cell_type": "code",
   "execution_count": 1,
   "metadata": {},
   "outputs": [],
   "source": [
    "import os\n",
    "import sys\n",
    "module_path = os.path.abspath(os.path.join('..'))\n",
    "if module_path not in sys.path:\n",
    "    sys.path.append(module_path)"
   ]
  },
  {
   "cell_type": "code",
   "execution_count": 2,
   "metadata": {},
   "outputs": [
    {
     "ename": "NameError",
     "evalue": "name 'itertools' is not defined",
     "output_type": "error",
     "traceback": [
      "\u001b[0;31m---------------------------------------------------------------------------\u001b[0m",
      "\u001b[0;31mNameError\u001b[0m                                 Traceback (most recent call last)",
      "\u001b[0;32m<ipython-input-2-df461df1e6cb>\u001b[0m in \u001b[0;36m<module>\u001b[0;34m()\u001b[0m\n\u001b[1;32m      6\u001b[0m \u001b[0mpolicy_content_links\u001b[0m \u001b[0;34m=\u001b[0m \u001b[0;34m[\u001b[0m\u001b[0mfetch_policy_links\u001b[0m\u001b[0;34m(\u001b[0m\u001b[0mlink\u001b[0m\u001b[0;34m,\u001b[0m\u001b[0;34m\"div\"\u001b[0m\u001b[0;34m,\u001b[0m\u001b[0mtag_class\u001b[0m\u001b[0;34m=\u001b[0m\u001b[0;34m\"node__content\"\u001b[0m\u001b[0;34m)\u001b[0m \u001b[0;32mfor\u001b[0m \u001b[0mlink\u001b[0m \u001b[0;32min\u001b[0m \u001b[0mpolicy_links\u001b[0m\u001b[0;34m]\u001b[0m\u001b[0;34m\u001b[0m\u001b[0m\n\u001b[1;32m      7\u001b[0m \u001b[0mpolicy_content_links\u001b[0m \u001b[0;34m=\u001b[0m \u001b[0;34m[\u001b[0m\u001b[0mpolicy_content_links\u001b[0m \u001b[0;32mfor\u001b[0m \u001b[0mpolicy_content_links\u001b[0m \u001b[0;32min\u001b[0m \u001b[0mpolicy_content_links\u001b[0m \u001b[0;32mif\u001b[0m \u001b[0mpolicy_content_links\u001b[0m \u001b[0;32mis\u001b[0m \u001b[0;32mnot\u001b[0m \u001b[0;32mNone\u001b[0m\u001b[0;34m]\u001b[0m\u001b[0;34m\u001b[0m\u001b[0m\n\u001b[0;32m----> 8\u001b[0;31m \u001b[0mpolicy_content_links\u001b[0m \u001b[0;34m=\u001b[0m \u001b[0mlist\u001b[0m\u001b[0;34m(\u001b[0m\u001b[0mitertools\u001b[0m\u001b[0;34m.\u001b[0m\u001b[0mchain\u001b[0m\u001b[0;34m(\u001b[0m\u001b[0;34m*\u001b[0m\u001b[0mpolicy_content_links\u001b[0m\u001b[0;34m)\u001b[0m\u001b[0;34m)\u001b[0m\u001b[0;34m\u001b[0m\u001b[0m\n\u001b[0m",
      "\u001b[0;31mNameError\u001b[0m: name 'itertools' is not defined"
     ]
    }
   ],
   "source": [
    "from common.policies.helper import fetch_policy_links\n",
    "import itertools\n",
    "\n",
    "base_url = \"https://policies.mit.edu/\"\n",
    "policies_url = f\"{base_url}/policies-procedures\"\n",
    "policy_links = fetch_policy_links(policies_url, \"ul\",tag_class=\"menu\")\n",
    "\n",
    "policy_content_links = [fetch_policy_links(link,\"div\",tag_class=\"node__content\") for link in policy_links]\n",
    "policy_content_links = [policy_content_links for policy_content_links in policy_content_links if policy_content_links is not None]\n",
    "policy_content_links = list(itertools.chain(*policy_content_links))"
   ]
  },
  {
   "cell_type": "code",
   "execution_count": 92,
   "metadata": {},
   "outputs": [
    {
     "ename": "FileNotFoundError",
     "evalue": "[Errno 2] No such file or directory: '/Users/erikbeerepoot//Documents/policies/mit//4.3_Sick_Leave/Personal_Leave.md'",
     "output_type": "error",
     "traceback": [
      "\u001b[0;31m---------------------------------------------------------------------------\u001b[0m",
      "\u001b[0;31mFileNotFoundError\u001b[0m                         Traceback (most recent call last)",
      "\u001b[0;32m<ipython-input-92-8df4bb8648fb>\u001b[0m in \u001b[0;36m<module>\u001b[0;34m()\u001b[0m\n\u001b[1;32m      1\u001b[0m \u001b[0;32mfrom\u001b[0m \u001b[0mcommon\u001b[0m\u001b[0;34m.\u001b[0m\u001b[0mhelper\u001b[0m \u001b[0;32mimport\u001b[0m \u001b[0msave_policies\u001b[0m\u001b[0;34m\u001b[0m\u001b[0m\n\u001b[1;32m      2\u001b[0m \u001b[0mpolicies\u001b[0m \u001b[0;34m=\u001b[0m \u001b[0;34m[\u001b[0m\u001b[0mfetch_policy_document\u001b[0m\u001b[0;34m(\u001b[0m\u001b[0mpolicy_link\u001b[0m\u001b[0;34m,\u001b[0m\u001b[0;34m\"h1\"\u001b[0m\u001b[0;34m,\u001b[0m\u001b[0;34m\"div\"\u001b[0m\u001b[0;34m,\u001b[0m\u001b[0;34m\"region region-content\"\u001b[0m\u001b[0;34m)\u001b[0m \u001b[0;32mfor\u001b[0m \u001b[0mpolicy_link\u001b[0m \u001b[0;32min\u001b[0m \u001b[0mpolicy_content_links\u001b[0m\u001b[0;34m]\u001b[0m\u001b[0;34m\u001b[0m\u001b[0m\n\u001b[0;32m----> 3\u001b[0;31m \u001b[0msave_policies\u001b[0m\u001b[0;34m(\u001b[0m\u001b[0mpolicies\u001b[0m\u001b[0;34m,\u001b[0m \u001b[0;34m\"/Users/erikbeerepoot//Documents/policies/mit/\"\u001b[0m\u001b[0;34m)\u001b[0m\u001b[0;34m\u001b[0m\u001b[0m\n\u001b[0m",
      "\u001b[0;32m~/Dropbox/Code/ml/notebooks/common/helper.py\u001b[0m in \u001b[0;36msave_policies\u001b[0;34m(policy_list, path)\u001b[0m\n",
      "\u001b[0;31mFileNotFoundError\u001b[0m: [Errno 2] No such file or directory: '/Users/erikbeerepoot//Documents/policies/mit//4.3_Sick_Leave/Personal_Leave.md'"
     ]
    }
   ],
   "source": [
    "from common.helper import save_policies\n",
    "policies = [fetch_policy_document(policy_link,\"h1\",\"div\",\"region region-content\") for policy_link in policy_content_links]\n",
    "save_policies(policies, \"/Users/erikbeerepoot//Documents/policies/mit/\")\n"
   ]
  }
 ],
 "metadata": {
  "kernelspec": {
   "display_name": "Python 3",
   "language": "python",
   "name": "python3"
  },
  "language_info": {
   "codemirror_mode": {
    "name": "ipython",
    "version": 3
   },
   "file_extension": ".py",
   "mimetype": "text/x-python",
   "name": "python",
   "nbconvert_exporter": "python",
   "pygments_lexer": "ipython3",
   "version": "3.7.0"
  }
 },
 "nbformat": 4,
 "nbformat_minor": 2
}
