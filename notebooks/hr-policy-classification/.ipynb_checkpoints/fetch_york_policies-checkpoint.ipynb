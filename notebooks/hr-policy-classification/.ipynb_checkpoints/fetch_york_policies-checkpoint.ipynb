{
 "cells": [
  {
   "cell_type": "code",
   "execution_count": 1,
   "metadata": {},
   "outputs": [],
   "source": [
    "import os\n",
    "import sys\n",
    "module_path = os.path.abspath(os.path.join('..'))\n",
    "if module_path not in sys.path:\n",
    "    sys.path.append(module_path)"
   ]
  },
  {
   "cell_type": "code",
   "execution_count": 2,
   "metadata": {},
   "outputs": [],
   "source": [
    "from common.policies.helper import fetch_policy_links\n",
    "from common.url.helper import filter_anchor_links\n",
    "import itertools\n",
    "\n",
    "base_url = \"https://secretariat-policies.info.yorku.ca/\"\n",
    "policies_url = f\"{base_url}\"\n",
    "policy_content_links = filter_anchor_links(fetch_policy_links(policies_url, \"div\",tag_id=\"wpv-view-layout-1497-TCPID1535\"))"
   ]
  },
  {
   "cell_type": "code",
   "execution_count": 8,
   "metadata": {},
   "outputs": [
    {
     "name": "stdout",
     "output_type": "stream",
     "text": [
      "None\n"
     ]
    }
   ],
   "source": [
    "from common.policies.helper import fetch_policy_document\n",
    "print(fetch_policy_document(policy_content_links[1],\"h2\",\"div\",\"content\"))\n",
    "# policies = [fetch_policy_document(policy_link,\"h2\",\"article\",\"\") for policy_link in policy_content_links]"
   ]
  },
  {
   "cell_type": "code",
   "execution_count": 6,
   "metadata": {},
   "outputs": [
    {
     "name": "stdout",
     "output_type": "stream",
     "text": [
      "[('Academic Accommodation for Students with Disabilities (Guidelines, Procedures\\nand Definitions)\\n\\n', \"Academic Accommodation for Students with Disabilities (Guidelines, Procedures\\nand Definitions) Guidelines 1\\\\. Accessibility, Accommodation and Course Design\\nAccommodation and inclusive course design are methods of preventing and\\neliminating barriers for students with disabilities. Course curriculum,\\ndelivery and evaluation methods should be designed inclusively from the\\noutset. Even when the principles of inclusivity (or Universal Design for\\nLearning – UDL) have been applied, accommodations may be required and\\nrequested. 2\\\\. Privacy and Confidentiality All documents and communications\\nconcerning accommodations shall be kept confidential and may not be disclosed\\nwithout consent except to the extent that disclosure is necessary for the\\nimplementation of accommodations, resolution of a disagreement, or as required\\nby law. Students are not required to disclose a mental health diagnosis when\\nrequesting accommodation. Medical documentation must confirm a diagnosed\\nmental health disability without a specific diagnostic label. 3\\\\. Roles and\\nResponsibilities Counselling and Disability Services (Keele Campus) and the\\nAccessibility, Well-Being and Counselling Centre (Glendon Campus) are the\\nprimary offices for processing requests, working with students and faculty\\nmembers to develop accommodation plans, and providing appropriate resources\\nfor the community. Students shall provide timely notice of requests for\\naccommodation based on disability and the documentation necessary to develop\\nan accommodation plan. Requests are normally expected to be made with the\\nassistance of the appropriate University office or centre as noted in 3a). The\\ninformation provided must be sufficient for the specialized staff in the\\nappropriate office or centre to determine the appropriate accommodations in\\nconsultation with the student and the instructor. Students are expected to\\ncommunicate in a timely way any change in their circumstances and to fulfill\\nthe role assigned to them in their accommodation plans in a timely way where\\nrequired by such plans. Instructors shall take reasonable steps to accommodate\\nin a manner consistent with these Guidelines and the information provided\\nthrough the appropriate university office of centre. Programs / departments\\nand if necessary the Deans / Principal shall make best efforts to arrange\\ntimely mediation in cases when disagreements between students and instructors\\nabout requests for accommodation are unresolved. 4\\\\. Instruction-Related\\nAccommodations Instruction-related accommodations may include, but are not\\nlimited to: timely provision of reading lists and other course materials to\\nallow for alternate format transcription / conversion alternate format\\ntranscription / conversion alternate scheduling for the completion of course,\\nproject, thesis work or competency examinations reasonable, proportionate\\nextensions to program completion time limits use of assistive devices or\\nauxiliary aids in the classroom/laboratory/field (e.g., sound amplification\\nsystems worn by course instructors; computerized note takers in the classroom)\\nuse of oral and visual language interpreters and/or notetakers in the\\nclassroom permission to audio-record or video-record instruction for\\naccommodation purposes only special seating, wheelchair accessible tables\\nadjustments to lightingb b. Accommodation in Examinations and Evaluations Test\\nand examination accommodations may include, but are not limited to: alternate\\nscheduling of examinations and essays alternate forms of assessment extended\\ntime to complete tests/examinations use of special equipment (computer,\\nassistive technology, etc.) use of special facilities (alternate test/exam\\nroom and proctor) and/or examinations in alternate formats (e.g. Braille,\\naudiofiles, etc.) ii. Whenever possible, the usual procedures for writing\\ntests and examinations shall be followed. Procedures 1.Requesting\\nAccommodations Students with disabilities who require accommodations shall, in\\na timely manner, provide all necessary documentation to the appropriate\\nUniversity office or centre, It is that office or centre that determines what\\nis necessary documentation. Designated offices will help students to identify\\nparticular aspects of courses that might present barriers to them and will\\nwork with them to identify the appropriate accommodations, to obtain or\\nprovide supportive documentation, and to assist the students and instructors\\nin developing accommodation plans. 2\\\\. Accommodation Agreements and Dispute\\nResolution accommodations having regard to input from the appropriate\\nUniversity office or centre. In cases where the instructor and the student\\ncannot agree about the provision of accommodations, the instructor shall\\ndiscuss the recommended accommodations with the specialized staff in the\\nrelevant designated office or centre, In the event of a disagreement over an\\naccommodation plan or its implementation, normal dispute resolution processes\\nshall be followed (beginning with the relevant program or department and, if\\nnecessary, the Associate Dean / Associate Principal of the relevant Faculty).\\nDEFINITIONS Academic Integrity: Academic integrity refers to the upholding of\\nessential requirements of courses and programs: All courses and programs have\\ncore or essential requirements against which students are evaluated as to\\nwhether they are demonstrating the skills, knowledge or attributes at the\\ndesignated level of the course. Learning outcomes involve learning tasks and\\nobjectives that must be undertaken successfully without compromising the\\nstandard required for success in a course or program. Appropriate University\\nOffice or Centre: Refers to the Counselling and Disability Services Office on\\nthe Keele Campus and The Accessibility, Well-being and Counselling Centre on\\nthe Glendon Campus. Disability: For the purpose of this policy, disabilities\\nare defined by the Ontario Human Rights Code as follows: any degree of\\nphysical disability, infirmity, malformation or disfigurement that is caused\\nby bodily injury, birth defect or illness and, without limiting the generality\\nof the foregoing, includes diabetes mellitus, epilepsy, a brain injury, any\\ndegree of paralysis, amputation, lack of physical co-ordination, blindness or\\nvisual impediment, deafness or hearing impediment, muteness or speech\\nimpediment, or physical reliance on a guide dog or other animal or on a\\nwheelchair or other remedial appliance or device, a condition of mental\\nimpairment or a developmental disability, a learning disability, or a\\ndysfunction in one or more of the processes involved in understanding or using\\nsymbols or spoken language, a mental disorder, or an injury or disability for\\nwhich benefits were claimed or received under the insurance plan established\\nunder the Workplace Safety and Insurance Act, 1997. Reasonable Academic\\nAccommodations: These are planned and agreed-upon variations in the manner in\\nwhich students may receive course instruction, participate in course\\nactivities, or be evaluated. Accommodations are designed to eliminate or\\nreduce barriers to participation in academic life and to ensure students are\\ntreated with dignity and respect. The University has a duty to provide\\naccommodations up to the point of undue hardship, which may be related to the\\nfollowing factors identified in the Ontario Human Rights Code: Cost\\nAvailability of outside sources of funding Health and safety requirements\\nStudents: For the purposes of this Policy, “students” are those individuals\\nwho have been admitted to the University, including the School of Continuing\\nStudies, and are eligible to enroll in courses. Universal Design for Learning\\n– UDL: The principles of UDL(sometimes referred to as Universal Instruction\\nDesign or Inclusive Curriculum Design) emphasize: multiple means of\\nrepresentation, to give learners various ways of acquiring information and\\nknowledge multiple means of expression, to provide learners alternatives for\\ndemonstrating what they know multiple means of engagement, to tap into\\nlearners' interests, offer appropriate challenges, and increase motivation For\\ninformation and assistance, please refer to the Teaching Commons’ resources at\\nhttp://teachingcommons.yorku.ca/resources-2/accommodations-and-inclusive-\\nteaching/\\n\\n\"), None, None, None, None, None, None, None, None, None, None, None, None, None, None, None, None, None, None, None, None, None, None, None, None, None, None, None, None, None, None, None, None, None, None, None, None, None, None, None, None, None, None, None, None, None, None, None, None, None, None, None, None, None, None, None, None, None, None, None, None, None, None, None, None, None, None, None, None, None, None, None, None, None, None, None, None, None, None, None, None, None, None, None, None, None, None, None, None, None, None, None, None, None, None, None, None, None, None, None, None, None, None, None, None, None, None, None, None, None, None, None, None, None, None, None, None, None, None, None, None, None, None, None, None, None, None, None, None, None, None, None, None, None, None, None, None, None, None, None, None, None, None, None, None, None, None, None, None, None, None, None, None, None, None, None, None, None, None, None, None, None, None, None, None, None, None, None, None, None, None, None, None, None, None]\n"
     ]
    }
   ],
   "source": [
    "from common.policies.helper import save_policies\n",
    "print(policies)\n",
    "# save_policies(policies, \"/Users/erikbeerepoot/Documents/policies/york/\")"
   ]
  }
 ],
 "metadata": {
  "kernelspec": {
   "display_name": "Python 3",
   "language": "python",
   "name": "python3"
  },
  "language_info": {
   "codemirror_mode": {
    "name": "ipython",
    "version": 3
   },
   "file_extension": ".py",
   "mimetype": "text/x-python",
   "name": "python",
   "nbconvert_exporter": "python",
   "pygments_lexer": "ipython3",
   "version": "3.7.0"
  }
 },
 "nbformat": 4,
 "nbformat_minor": 2
}
