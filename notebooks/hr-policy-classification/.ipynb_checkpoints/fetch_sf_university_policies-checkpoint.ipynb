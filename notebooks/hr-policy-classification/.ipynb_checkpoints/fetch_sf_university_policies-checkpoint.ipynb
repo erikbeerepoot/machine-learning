{
 "cells": [
  {
   "cell_type": "code",
   "execution_count": 1,
   "metadata": {},
   "outputs": [],
   "source": [
    "import os\n",
    "import sys\n",
    "module_path = os.path.abspath(os.path.join('..'))\n",
    "if module_path not in sys.path:\n",
    "    sys.path.append(module_path)"
   ]
  },
  {
   "cell_type": "code",
   "execution_count": 2,
   "metadata": {},
   "outputs": [],
   "source": [
    "from common.policies.helper import fetch_policy_links\n",
    "import itertools\n",
    "\n",
    "base_url = \"https://www.usfca.edu/\"\n",
    "policies_url = f\"{base_url}catalog/policies\"\n",
    "policy_content_links = fetch_policy_links(policies_url, \"ul\",tag_id=\"e0fa05760_2147485691_2147485691_submenu_items\")"
   ]
  },
  {
   "cell_type": "code",
   "execution_count": 6,
   "metadata": {},
   "outputs": [],
   "source": [
    "from common.policies.helper import fetch_policy_document\n",
    "policies = [fetch_policy_document(policy_link,\"h1\",\"div\",\"field field-name-body field-type-text-with-summary field-label-hidden typography\") for policy_link in policy_content_links]"
   ]
  },
  {
   "cell_type": "code",
   "execution_count": 7,
   "metadata": {},
   "outputs": [
    {
     "ename": "NameError",
     "evalue": "name 'save_policies' is not defined",
     "output_type": "error",
     "traceback": [
      "\u001b[0;31m---------------------------------------------------------------------------\u001b[0m",
      "\u001b[0;31mNameError\u001b[0m                                 Traceback (most recent call last)",
      "\u001b[0;32m<ipython-input-7-e66815382049>\u001b[0m in \u001b[0;36m<module>\u001b[0;34m()\u001b[0m\n\u001b[1;32m      1\u001b[0m \u001b[0mpolicies\u001b[0m\u001b[0;34m\u001b[0m\u001b[0m\n\u001b[0;32m----> 2\u001b[0;31m \u001b[0msave_policies\u001b[0m\u001b[0;34m(\u001b[0m\u001b[0mpolicies\u001b[0m\u001b[0;34m,\u001b[0m \u001b[0;34m\"/Users/erikbeerepoot/Documents/policies/san-fransisco-university/\"\u001b[0m\u001b[0;34m)\u001b[0m\u001b[0;34m\u001b[0m\u001b[0m\n\u001b[0m",
      "\u001b[0;31mNameError\u001b[0m: name 'save_policies' is not defined"
     ]
    }
   ],
   "source": [
    "from common.policies.helper import save_policies\n",
    "save_policies(policies, \"/Users/erikbeerepoot/Documents/policies/san-fransisco-university/\")"
   ]
  }
 ],
 "metadata": {
  "kernelspec": {
   "display_name": "Python 3",
   "language": "python",
   "name": "python3"
  },
  "language_info": {
   "codemirror_mode": {
    "name": "ipython",
    "version": 3
   },
   "file_extension": ".py",
   "mimetype": "text/x-python",
   "name": "python",
   "nbconvert_exporter": "python",
   "pygments_lexer": "ipython3",
   "version": "3.7.0"
  }
 },
 "nbformat": 4,
 "nbformat_minor": 2
}
